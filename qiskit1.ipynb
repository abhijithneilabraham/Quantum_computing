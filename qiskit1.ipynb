{
  "nbformat": 4,
  "nbformat_minor": 0,
  "metadata": {
    "colab": {
      "name": "Untitled38.ipynb",
      "version": "0.3.2",
      "provenance": [],
      "include_colab_link": true
    },
    "kernelspec": {
      "name": "python3",
      "display_name": "Python 3"
    }
  },
  "cells": [
    {
      "cell_type": "markdown",
      "metadata": {
        "id": "view-in-github",
        "colab_type": "text"
      },
      "source": [
        "<a href=\"https://colab.research.google.com/github/abhijithneilabraham/Quantum_computing/blob/master/qiskit1.ipynb\" target=\"_parent\"><img src=\"https://colab.research.google.com/assets/colab-badge.svg\" alt=\"Open In Colab\"/></a>"
      ]
    },
    {
      "metadata": {
        "id": "0y6zgsBb4DIb",
        "colab_type": "code",
        "colab": {
          "base_uri": "https://localhost:8080/",
          "height": 1295
        },
        "outputId": "4c2d953d-fee5-41f9-e6f5-9fc309b7183b"
      },
      "cell_type": "code",
      "source": [
        "!pip install qiskit\n"
      ],
      "execution_count": 12,
      "outputs": [
        {
          "output_type": "stream",
          "text": [
            "\u001b[31mspacy 2.0.18 has requirement numpy>=1.15.0, but you'll have numpy 1.14.6 which is incompatible.\u001b[0m\n",
            "\u001b[31mimgaug 0.2.8 has requirement numpy>=1.15.0, but you'll have numpy 1.14.6 which is incompatible.\u001b[0m\n",
            "\u001b[31mgoogle-colab 1.0.0 has requirement requests~=2.18.0, but you'll have requests 2.21.0 which is incompatible.\u001b[0m\n",
            "\u001b[31mfastai 1.0.49 has requirement numpy>=1.15, but you'll have numpy 1.14.6 which is incompatible.\u001b[0m\n",
            "\u001b[31mdatascience 0.10.6 has requirement folium==0.2.1, but you'll have folium 0.8.3 which is incompatible.\u001b[0m\n",
            "\u001b[31malbumentations 0.1.12 has requirement imgaug<0.2.7,>=0.2.5, but you'll have imgaug 0.2.8 which is incompatible.\u001b[0m\n",
            "Installing collected packages: marshmallow, marshmallow-polyfield, ntlm-auth, requests, asn1crypto, cryptography, requests-ntlm, sympy, pillow, ply, qiskit-terra, qiskit-aer, qiskit-ignis, qiskit\n",
            "  Found existing installation: requests 2.18.4\n",
            "    Uninstalling requests-2.18.4:\n",
            "      Successfully uninstalled requests-2.18.4\n",
            "  Found existing installation: sympy 1.1.1\n",
            "    Uninstalling sympy-1.1.1:\n",
            "      Successfully uninstalled sympy-1.1.1\n",
            "  Found existing installation: Pillow 4.1.1\n",
            "    Uninstalling Pillow-4.1.1:\n",
            "      Successfully uninstalled Pillow-4.1.1\n",
            "  Running setup.py install for qiskit ... \u001b[?25ldone\n",
            "\u001b[?25hSuccessfully installed asn1crypto-0.24.0 cryptography-2.6.1 marshmallow-2.19.1 marshmallow-polyfield-3.2 ntlm-auth-1.2.0 pillow-5.4.1 ply-3.11 qiskit-0.8.0 qiskit-aer-0.1.1 qiskit-ignis-0.1.0 qiskit-terra-0.7.1 requests-2.21.0 requests-ntlm-1.1.0 sympy-1.3\n",
            "Requirement already satisfied: qiskit in /usr/local/lib/python3.6/dist-packages (0.8.0)\n",
            "Requirement already satisfied: qiskit_terra==0.7.1 in /usr/local/lib/python3.6/dist-packages (from qiskit) (0.7.1)\n",
            "Requirement already satisfied: qiskit-aer==0.1.1 in /usr/local/lib/python3.6/dist-packages (from qiskit) (0.1.1)\n",
            "Requirement already satisfied: qiskit-ignis==0.1.0 in /usr/local/lib/python3.6/dist-packages (from qiskit) (0.1.0)\n",
            "Requirement already satisfied: marshmallow-polyfield<4,>=3.2 in /usr/local/lib/python3.6/dist-packages (from qiskit_terra==0.7.1->qiskit) (3.2)\n",
            "Requirement already satisfied: scipy!=0.19.1,>=0.19 in /usr/local/lib/python3.6/dist-packages (from qiskit_terra==0.7.1->qiskit) (1.1.0)\n",
            "Requirement already satisfied: numpy>=1.13 in /usr/local/lib/python3.6/dist-packages (from qiskit_terra==0.7.1->qiskit) (1.14.6)\n",
            "Requirement already satisfied: requests-ntlm>=1.1.0 in /usr/local/lib/python3.6/dist-packages (from qiskit_terra==0.7.1->qiskit) (1.1.0)\n",
            "Requirement already satisfied: marshmallow<3,>=2.16.3 in /usr/local/lib/python3.6/dist-packages (from qiskit_terra==0.7.1->qiskit) (2.19.1)\n",
            "Requirement already satisfied: jsonschema<2.7,>=2.6 in /usr/local/lib/python3.6/dist-packages (from qiskit_terra==0.7.1->qiskit) (2.6.0)\n",
            "Requirement already satisfied: ply>=3.10 in /usr/local/lib/python3.6/dist-packages (from qiskit_terra==0.7.1->qiskit) (3.11)\n",
            "Requirement already satisfied: networkx>=2.2 in /usr/local/lib/python3.6/dist-packages (from qiskit_terra==0.7.1->qiskit) (2.2)\n",
            "Requirement already satisfied: sympy>=1.3 in /usr/local/lib/python3.6/dist-packages (from qiskit_terra==0.7.1->qiskit) (1.3)\n",
            "Requirement already satisfied: psutil>=5 in /usr/local/lib/python3.6/dist-packages (from qiskit_terra==0.7.1->qiskit) (5.4.8)\n",
            "Requirement already satisfied: requests>=2.19 in /usr/local/lib/python3.6/dist-packages (from qiskit_terra==0.7.1->qiskit) (2.21.0)\n",
            "Requirement already satisfied: pillow>=4.2.1 in /usr/local/lib/python3.6/dist-packages (from qiskit_terra==0.7.1->qiskit) (5.4.1)\n",
            "Requirement already satisfied: cryptography>=1.3 in /usr/local/lib/python3.6/dist-packages (from requests-ntlm>=1.1.0->qiskit_terra==0.7.1->qiskit) (2.6.1)\n",
            "Requirement already satisfied: ntlm-auth>=1.0.2 in /usr/local/lib/python3.6/dist-packages (from requests-ntlm>=1.1.0->qiskit_terra==0.7.1->qiskit) (1.2.0)\n",
            "Requirement already satisfied: decorator>=4.3.0 in /usr/local/lib/python3.6/dist-packages (from networkx>=2.2->qiskit_terra==0.7.1->qiskit) (4.4.0)\n",
            "Requirement already satisfied: mpmath>=0.19 in /usr/local/lib/python3.6/dist-packages (from sympy>=1.3->qiskit_terra==0.7.1->qiskit) (1.1.0)\n",
            "Requirement already satisfied: chardet<3.1.0,>=3.0.2 in /usr/local/lib/python3.6/dist-packages (from requests>=2.19->qiskit_terra==0.7.1->qiskit) (3.0.4)\n",
            "Requirement already satisfied: idna<2.9,>=2.5 in /usr/local/lib/python3.6/dist-packages (from requests>=2.19->qiskit_terra==0.7.1->qiskit) (2.6)\n",
            "Requirement already satisfied: urllib3<1.25,>=1.21.1 in /usr/local/lib/python3.6/dist-packages (from requests>=2.19->qiskit_terra==0.7.1->qiskit) (1.22)\n",
            "Requirement already satisfied: certifi>=2017.4.17 in /usr/local/lib/python3.6/dist-packages (from requests>=2.19->qiskit_terra==0.7.1->qiskit) (2019.3.9)\n",
            "Requirement already satisfied: six>=1.4.1 in /usr/local/lib/python3.6/dist-packages (from cryptography>=1.3->requests-ntlm>=1.1.0->qiskit_terra==0.7.1->qiskit) (1.11.0)\n",
            "Requirement already satisfied: cffi!=1.11.3,>=1.8 in /usr/local/lib/python3.6/dist-packages (from cryptography>=1.3->requests-ntlm>=1.1.0->qiskit_terra==0.7.1->qiskit) (1.12.2)\n",
            "Requirement already satisfied: asn1crypto>=0.21.0 in /usr/local/lib/python3.6/dist-packages (from cryptography>=1.3->requests-ntlm>=1.1.0->qiskit_terra==0.7.1->qiskit) (0.24.0)\n",
            "Requirement already satisfied: pycparser in /usr/local/lib/python3.6/dist-packages (from cffi!=1.11.3,>=1.8->cryptography>=1.3->requests-ntlm>=1.1.0->qiskit_terra==0.7.1->qiskit) (2.19)\n",
            "Requirement already satisfied: qiskit in /usr/local/lib/python3.6/dist-packages (0.8.0)\n",
            "Requirement already satisfied: qiskit_terra==0.7.1 in /usr/local/lib/python3.6/dist-packages (from qiskit) (0.7.1)\n",
            "Requirement already satisfied: qiskit-aer==0.1.1 in /usr/local/lib/python3.6/dist-packages (from qiskit) (0.1.1)\n",
            "Requirement already satisfied: qiskit-ignis==0.1.0 in /usr/local/lib/python3.6/dist-packages (from qiskit) (0.1.0)\n",
            "Requirement already satisfied: psutil>=5 in /usr/local/lib/python3.6/dist-packages (from qiskit_terra==0.7.1->qiskit) (5.4.8)\n",
            "Requirement already satisfied: sympy>=1.3 in /usr/local/lib/python3.6/dist-packages (from qiskit_terra==0.7.1->qiskit) (1.3)\n",
            "Requirement already satisfied: networkx>=2.2 in /usr/local/lib/python3.6/dist-packages (from qiskit_terra==0.7.1->qiskit) (2.2)\n",
            "Requirement already satisfied: pillow>=4.2.1 in /usr/local/lib/python3.6/dist-packages (from qiskit_terra==0.7.1->qiskit) (5.4.1)\n",
            "Requirement already satisfied: marshmallow-polyfield<4,>=3.2 in /usr/local/lib/python3.6/dist-packages (from qiskit_terra==0.7.1->qiskit) (3.2)\n",
            "Requirement already satisfied: marshmallow<3,>=2.16.3 in /usr/local/lib/python3.6/dist-packages (from qiskit_terra==0.7.1->qiskit) (2.19.1)\n",
            "Requirement already satisfied: ply>=3.10 in /usr/local/lib/python3.6/dist-packages (from qiskit_terra==0.7.1->qiskit) (3.11)\n",
            "Requirement already satisfied: scipy!=0.19.1,>=0.19 in /usr/local/lib/python3.6/dist-packages (from qiskit_terra==0.7.1->qiskit) (1.1.0)\n",
            "Requirement already satisfied: requests>=2.19 in /usr/local/lib/python3.6/dist-packages (from qiskit_terra==0.7.1->qiskit) (2.21.0)\n",
            "Requirement already satisfied: requests-ntlm>=1.1.0 in /usr/local/lib/python3.6/dist-packages (from qiskit_terra==0.7.1->qiskit) (1.1.0)\n",
            "Requirement already satisfied: numpy>=1.13 in /usr/local/lib/python3.6/dist-packages (from qiskit_terra==0.7.1->qiskit) (1.14.6)\n",
            "Requirement already satisfied: jsonschema<2.7,>=2.6 in /usr/local/lib/python3.6/dist-packages (from qiskit_terra==0.7.1->qiskit) (2.6.0)\n",
            "Requirement already satisfied: mpmath>=0.19 in /usr/local/lib/python3.6/dist-packages (from sympy>=1.3->qiskit_terra==0.7.1->qiskit) (1.1.0)\n",
            "Requirement already satisfied: decorator>=4.3.0 in /usr/local/lib/python3.6/dist-packages (from networkx>=2.2->qiskit_terra==0.7.1->qiskit) (4.4.0)\n",
            "Requirement already satisfied: certifi>=2017.4.17 in /usr/local/lib/python3.6/dist-packages (from requests>=2.19->qiskit_terra==0.7.1->qiskit) (2019.3.9)\n",
            "Requirement already satisfied: idna<2.9,>=2.5 in /usr/local/lib/python3.6/dist-packages (from requests>=2.19->qiskit_terra==0.7.1->qiskit) (2.6)\n",
            "Requirement already satisfied: urllib3<1.25,>=1.21.1 in /usr/local/lib/python3.6/dist-packages (from requests>=2.19->qiskit_terra==0.7.1->qiskit) (1.22)\n",
            "Requirement already satisfied: chardet<3.1.0,>=3.0.2 in /usr/local/lib/python3.6/dist-packages (from requests>=2.19->qiskit_terra==0.7.1->qiskit) (3.0.4)\n",
            "Requirement already satisfied: cryptography>=1.3 in /usr/local/lib/python3.6/dist-packages (from requests-ntlm>=1.1.0->qiskit_terra==0.7.1->qiskit) (2.6.1)\n",
            "Requirement already satisfied: ntlm-auth>=1.0.2 in /usr/local/lib/python3.6/dist-packages (from requests-ntlm>=1.1.0->qiskit_terra==0.7.1->qiskit) (1.2.0)\n",
            "Requirement already satisfied: six>=1.4.1 in /usr/local/lib/python3.6/dist-packages (from cryptography>=1.3->requests-ntlm>=1.1.0->qiskit_terra==0.7.1->qiskit) (1.11.0)\n",
            "Requirement already satisfied: asn1crypto>=0.21.0 in /usr/local/lib/python3.6/dist-packages (from cryptography>=1.3->requests-ntlm>=1.1.0->qiskit_terra==0.7.1->qiskit) (0.24.0)\n",
            "Requirement already satisfied: cffi!=1.11.3,>=1.8 in /usr/local/lib/python3.6/dist-packages (from cryptography>=1.3->requests-ntlm>=1.1.0->qiskit_terra==0.7.1->qiskit) (1.12.2)\n",
            "Requirement already satisfied: pycparser in /usr/local/lib/python3.6/dist-packages (from cffi!=1.11.3,>=1.8->cryptography>=1.3->requests-ntlm>=1.1.0->qiskit_terra==0.7.1->qiskit) (2.19)\n"
          ],
          "name": "stdout"
        }
      ]
    },
    {
      "metadata": {
        "id": "8XUrxqSC7rp5",
        "colab_type": "code",
        "colab": {
          "base_uri": "https://localhost:8080/",
          "height": 71
        },
        "outputId": "9b7d9df2-a01d-4b95-f288-234549fc94cb"
      },
      "cell_type": "code",
      "source": [
        "from qiskit import IBMQ\n",
        "\n",
        "IBMQ.save_account('********')\n"
      ],
      "execution_count": 18,
      "outputs": [
        {
          "output_type": "stream",
          "text": [
            "/usr/local/lib/python3.6/dist-packages/qiskit/providers/ibmq/credentials/_configrc.py:129: UserWarning: Credentials already present. Set overwrite=True to overwrite.\n",
            "  warnings.warn('Credentials already present. Set overwrite=True to overwrite.')\n"
          ],
          "name": "stderr"
        }
      ]
    },
    {
      "metadata": {
        "id": "5Y5FitfE8I5f",
        "colab_type": "code",
        "colab": {
          "base_uri": "https://localhost:8080/",
          "height": 34
        },
        "outputId": "855ec09b-0ff3-4de2-b764-fbef25632a89"
      },
      "cell_type": "code",
      "source": [
        "import qiskit\n",
        "qiskit.__version__"
      ],
      "execution_count": 19,
      "outputs": [
        {
          "output_type": "execute_result",
          "data": {
            "text/plain": [
              "'0.7.1'"
            ]
          },
          "metadata": {
            "tags": []
          },
          "execution_count": 19
        }
      ]
    },
    {
      "metadata": {
        "id": "Ygos3cPY8dPL",
        "colab_type": "code",
        "colab": {
          "base_uri": "https://localhost:8080/",
          "height": 226
        },
        "outputId": "300b7b8d-098d-4517-f041-e7f4c7650d7a"
      },
      "cell_type": "code",
      "source": [
        "import numpy as np\n",
        "from qiskit import QuantumCircuit, ClassicalRegister, QuantumRegister\n",
        "from qiskit import execute\n",
        "from qiskit import BasicAer\n",
        "\n",
        "q = QuantumRegister(2)\n",
        "c = ClassicalRegister(2)\n",
        "qc = QuantumCircuit(q,c)\n",
        "\n",
        "qc.h(q[0])\n",
        "qc.cx(q[0],q[1])\n",
        "qc.draw(output='mpl')"
      ],
      "execution_count": 20,
      "outputs": [
        {
          "output_type": "execute_result",
          "data": {
            "image/png": "[encoded data removed]",
            "text/plain": [
              "<Figure size 301x258.86 with 1 Axes>"
            ]
          },
          "metadata": {
            "tags": []
          },
          "execution_count": 20
        }
      ]
    },
    {
      "metadata": {
        "id": "ur2j9d4YAUdi",
        "colab_type": "code",
        "colab": {}
      },
      "cell_type": "code",
      "source": [
        "m = QuantumCircuit(q,c)\n",
        "m.measure(q,c)\n",
        "t = qc + m"
      ],
      "execution_count": 0,
      "outputs": []
    },
    {
      "metadata": {
        "id": "sxzGlv3PA4Pg",
        "colab_type": "code",
        "colab": {
          "base_uri": "https://localhost:8080/",
          "height": 51
        },
        "outputId": "f816473c-3a83-4d9f-b0ab-b73e8a581266"
      },
      "cell_type": "code",
      "source": [
        "backend = BasicAer.get_backend('qasm_simulator')\n",
        "job = execute(t,backend,shots=1000)\n",
        "result=job.result().get_counts(t)\n",
        "print(result)"
      ],
      "execution_count": 17,
      "outputs": [
        {
          "output_type": "stream",
          "text": [
            "{'11': 503, '00': 497}\n",
            "{'11': 503, '00': 497}\n"
          ],
          "name": "stdout"
        }
      ]
    }
  ]
}